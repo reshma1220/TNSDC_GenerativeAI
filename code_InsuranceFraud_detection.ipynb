{
  "nbformat": 4,
  "nbformat_minor": 0,
  "metadata": {
    "colab": {
      "provenance": []
    },
    "kernelspec": {
      "name": "python3",
      "display_name": "Python 3"
    },
    "language_info": {
      "name": "python"
    }
  },
  "cells": [
    {
      "cell_type": "code",
      "source": [
        "import numpy as np\n",
        "from sklearn.model_selection import train_test_split\n",
        "from sklearn.metrics import accuracy_score, precision_score, recall_score, f1_score\n",
        "from tensorflow.keras.models import Sequential\n",
        "from tensorflow.keras.layers import Dense, SimpleRNN\n",
        "import tensorflow as tf\n",
        "\n",
        "# Generate synthetic dataset (replace this with your actual data loading/preprocessing)\n",
        "from sklearn.datasets import make_classification\n",
        "X, y = make_classification(n_samples=10000, n_features=20, n_classes=2, weights=[0.9, 0.1], random_state=42)\n",
        "\n",
        "# Split the dataset into training and testing sets\n",
        "X_train, X_test, y_train, y_test = train_test_split(X, y, test_size=0.2, random_state=42)\n",
        "\n",
        "# Define the RNN model\n",
        "model = Sequential([\n",
        "    SimpleRNN(units=64, input_shape=(X_train.shape[1], 1)),  # Assuming X_train is 2D\n",
        "    Dense(1, activation='sigmoid')\n",
        "])\n",
        "\n",
        "# Compile the model\n",
        "model.compile(optimizer='adam', loss='binary_crossentropy', metrics=['accuracy'])\n",
        "\n",
        "# Reshape input data (RNN expects 3D input)\n",
        "X_train = X_train.reshape(X_train.shape[0], X_train.shape[1], 1)\n",
        "X_test = X_test.reshape(X_test.shape[0], X_test.shape[1], 1)\n",
        "\n",
        "# Train the model\n",
        "model.fit(X_train, y_train, epochs=10, batch_size=32, validation_data=(X_test, y_test))\n",
        "\n",
        "# Evaluate the model\n",
        "y_pred_proba = model.predict(X_test)\n",
        "y_pred = (y_pred_proba > 0.5).astype(int)  # Convert probabilities to binary predictions\n",
        "accuracy = accuracy_score(y_test, y_pred)\n",
        "precision = precision_score(y_test, y_pred)\n",
        "recall = recall_score(y_test, y_pred)\n",
        "f1 = f1_score(y_test, y_pred)\n",
        "\n",
        "print(\"Accuracy:\", accuracy)\n",
        "print(\"Precision:\", precision)\n",
        "print(\"Recall:\", recall)\n",
        "print(\"F1 Score:\", f1)\n"
      ],
      "metadata": {
        "colab": {
          "base_uri": "https://localhost:8080/"
        },
        "id": "8rrvgXCCGQGW",
        "outputId": "67a95197-2b64-4b32-ebe4-785842932be3"
      },
      "execution_count": 7,
      "outputs": [
        {
          "output_type": "stream",
          "name": "stdout",
          "text": [
            "Epoch 1/10\n",
            "250/250 [==============================] - 7s 15ms/step - loss: 0.2177 - accuracy: 0.9162 - val_loss: 0.1951 - val_accuracy: 0.9110\n",
            "Epoch 2/10\n",
            "250/250 [==============================] - 3s 11ms/step - loss: 0.1773 - accuracy: 0.9308 - val_loss: 0.1522 - val_accuracy: 0.9375\n",
            "Epoch 3/10\n",
            "250/250 [==============================] - 3s 12ms/step - loss: 0.1675 - accuracy: 0.9327 - val_loss: 0.1461 - val_accuracy: 0.9375\n",
            "Epoch 4/10\n",
            "250/250 [==============================] - 3s 12ms/step - loss: 0.1641 - accuracy: 0.9380 - val_loss: 0.1421 - val_accuracy: 0.9405\n",
            "Epoch 5/10\n",
            "250/250 [==============================] - 2s 10ms/step - loss: 0.1608 - accuracy: 0.9364 - val_loss: 0.1422 - val_accuracy: 0.9355\n",
            "Epoch 6/10\n",
            "250/250 [==============================] - 2s 6ms/step - loss: 0.1581 - accuracy: 0.9381 - val_loss: 0.1385 - val_accuracy: 0.9365\n",
            "Epoch 7/10\n",
            "250/250 [==============================] - 2s 6ms/step - loss: 0.1560 - accuracy: 0.9395 - val_loss: 0.1367 - val_accuracy: 0.9340\n",
            "Epoch 8/10\n",
            "250/250 [==============================] - 2s 9ms/step - loss: 0.1537 - accuracy: 0.9376 - val_loss: 0.1352 - val_accuracy: 0.9340\n",
            "Epoch 9/10\n",
            "250/250 [==============================] - 2s 6ms/step - loss: 0.1496 - accuracy: 0.9410 - val_loss: 0.1419 - val_accuracy: 0.9350\n",
            "Epoch 10/10\n",
            "250/250 [==============================] - 1s 6ms/step - loss: 0.1503 - accuracy: 0.9416 - val_loss: 0.1400 - val_accuracy: 0.9335\n",
            "63/63 [==============================] - 0s 3ms/step\n",
            "Accuracy: 0.9335\n",
            "Precision: 0.8321167883211679\n",
            "Recall: 0.5089285714285714\n",
            "F1 Score: 0.631578947368421\n"
          ]
        }
      ]
    }
  ]
}